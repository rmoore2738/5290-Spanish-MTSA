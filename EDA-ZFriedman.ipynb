{
 "cells": [
  {
   "cell_type": "markdown",
   "id": "4d000f04",
   "metadata": {},
   "source": [
    "# Exploratory Data Analysis - Spanish Movie Reviews\n",
    "**By Zach Friedman**, zacheryfriedman@my.unt.edu"
   ]
  },
  {
   "cell_type": "markdown",
   "id": "e7cacf09",
   "metadata": {},
   "source": [
    "- Get most frequent sentiment words\n",
    "- Visualize sentiment words in English translations (need sentiment word dictionary)"
   ]
  },
  {
   "cell_type": "code",
   "execution_count": 135,
   "id": "17f2f23c",
   "metadata": {},
   "outputs": [
    {
     "name": "stderr",
     "output_type": "stream",
     "text": [
      "[nltk_data] Downloading package punkt to /home/zach/nltk_data...\n",
      "[nltk_data]   Package punkt is already up-to-date!\n",
      "[nltk_data] Downloading package stopwords to /home/zach/nltk_data...\n",
      "[nltk_data]   Package stopwords is already up-to-date!\n",
      "[nltk_data] Downloading package sentiwordnet to\n",
      "[nltk_data]     /home/zach/nltk_data...\n",
      "[nltk_data]   Package sentiwordnet is already up-to-date!\n",
      "[nltk_data] Downloading package wordnet to /home/zach/nltk_data...\n",
      "[nltk_data]   Package wordnet is already up-to-date!\n",
      "[nltk_data] Downloading package omw-1.4 to /home/zach/nltk_data...\n",
      "[nltk_data]   Package omw-1.4 is already up-to-date!\n",
      "[nltk_data] Downloading package vader_lexicon to\n",
      "[nltk_data]     /home/zach/nltk_data...\n",
      "[nltk_data]   Package vader_lexicon is already up-to-date!\n"
     ]
    },
    {
     "data": {
      "text/plain": [
       "True"
      ]
     },
     "execution_count": 135,
     "metadata": {},
     "output_type": "execute_result"
    }
   ],
   "source": [
    "import pandas as pd\n",
    "import regex as re\n",
    "import spacy\n",
    "import nltk\n",
    "\n",
    "from nltk.tokenize import WordPunctTokenizer, sent_tokenize\n",
    "from nltk.corpus import sentiwordnet as swn\n",
    "from nltk.corpus import stopwords\n",
    "from nltk.stem import PorterStemmer, WordNetLemmatizer\n",
    "from nltk.sentiment.vader import SentimentIntensityAnalyzer\n",
    "\n",
    "nltk.download('punkt')\n",
    "nltk.download('stopwords')\n",
    "nltk.download('sentiwordnet')\n",
    "nltk.download('wordnet')\n",
    "nltk.download('omw-1.4')\n",
    "nltk.download('vader_lexicon')"
   ]
  },
  {
   "cell_type": "code",
   "execution_count": 136,
   "id": "3f0c15e2",
   "metadata": {},
   "outputs": [
    {
     "data": {
      "text/plain": [
       "(50000, 5)"
      ]
     },
     "execution_count": 136,
     "metadata": {},
     "output_type": "execute_result"
    }
   ],
   "source": [
    "df = pd.read_csv('./IMDB_Dataset_SPANISH.csv')\n",
    "df.shape"
   ]
  },
  {
   "cell_type": "code",
   "execution_count": 37,
   "id": "a4847e2c",
   "metadata": {},
   "outputs": [
    {
     "data": {
      "text/html": [
       "<div>\n",
       "<style scoped>\n",
       "    .dataframe tbody tr th:only-of-type {\n",
       "        vertical-align: middle;\n",
       "    }\n",
       "\n",
       "    .dataframe tbody tr th {\n",
       "        vertical-align: top;\n",
       "    }\n",
       "\n",
       "    .dataframe thead th {\n",
       "        text-align: right;\n",
       "    }\n",
       "</style>\n",
       "<table border=\"1\" class=\"dataframe\">\n",
       "  <thead>\n",
       "    <tr style=\"text-align: right;\">\n",
       "      <th></th>\n",
       "      <th>Unnamed: 0</th>\n",
       "      <th>review_en</th>\n",
       "      <th>review_es</th>\n",
       "      <th>sentiment</th>\n",
       "      <th>sentimiento</th>\n",
       "    </tr>\n",
       "  </thead>\n",
       "  <tbody>\n",
       "    <tr>\n",
       "      <th>0</th>\n",
       "      <td>0</td>\n",
       "      <td>One of the other reviewers has mentioned that ...</td>\n",
       "      <td>Uno de los otros críticos ha mencionado que de...</td>\n",
       "      <td>positive</td>\n",
       "      <td>positivo</td>\n",
       "    </tr>\n",
       "    <tr>\n",
       "      <th>1</th>\n",
       "      <td>1</td>\n",
       "      <td>A wonderful little production. The filming tec...</td>\n",
       "      <td>Una pequeña pequeña producción.La técnica de f...</td>\n",
       "      <td>positive</td>\n",
       "      <td>positivo</td>\n",
       "    </tr>\n",
       "    <tr>\n",
       "      <th>2</th>\n",
       "      <td>2</td>\n",
       "      <td>I thought this was a wonderful way to spend ti...</td>\n",
       "      <td>Pensé que esta era una manera maravillosa de p...</td>\n",
       "      <td>positive</td>\n",
       "      <td>positivo</td>\n",
       "    </tr>\n",
       "    <tr>\n",
       "      <th>3</th>\n",
       "      <td>3</td>\n",
       "      <td>Basically there's a family where a little boy ...</td>\n",
       "      <td>Básicamente, hay una familia donde un niño peq...</td>\n",
       "      <td>negative</td>\n",
       "      <td>negativo</td>\n",
       "    </tr>\n",
       "    <tr>\n",
       "      <th>4</th>\n",
       "      <td>4</td>\n",
       "      <td>Petter Mattei's \"Love in the Time of Money\" is...</td>\n",
       "      <td>El \"amor en el tiempo\" de Petter Mattei es una...</td>\n",
       "      <td>positive</td>\n",
       "      <td>positivo</td>\n",
       "    </tr>\n",
       "  </tbody>\n",
       "</table>\n",
       "</div>"
      ],
      "text/plain": [
       "   Unnamed: 0                                          review_en  \\\n",
       "0           0  One of the other reviewers has mentioned that ...   \n",
       "1           1  A wonderful little production. The filming tec...   \n",
       "2           2  I thought this was a wonderful way to spend ti...   \n",
       "3           3  Basically there's a family where a little boy ...   \n",
       "4           4  Petter Mattei's \"Love in the Time of Money\" is...   \n",
       "\n",
       "                                           review_es sentiment sentimiento  \n",
       "0  Uno de los otros críticos ha mencionado que de...  positive    positivo  \n",
       "1  Una pequeña pequeña producción.La técnica de f...  positive    positivo  \n",
       "2  Pensé que esta era una manera maravillosa de p...  positive    positivo  \n",
       "3  Básicamente, hay una familia donde un niño peq...  negative    negativo  \n",
       "4  El \"amor en el tiempo\" de Petter Mattei es una...  positive    positivo  "
      ]
     },
     "execution_count": 37,
     "metadata": {},
     "output_type": "execute_result"
    }
   ],
   "source": [
    "df.head()"
   ]
  },
  {
   "cell_type": "code",
   "execution_count": 38,
   "id": "76ce33ef",
   "metadata": {},
   "outputs": [
    {
     "name": "stderr",
     "output_type": "stream",
     "text": [
      "/tmp/ipykernel_3542/1816312852.py:1: FutureWarning: In a future version of pandas all arguments of DataFrame.drop except for the argument 'labels' will be keyword-only.\n",
      "  df = df.drop(['Unnamed: 0'], 1)\n"
     ]
    }
   ],
   "source": [
    "df = df.drop(['Unnamed: 0'], 1)"
   ]
  },
  {
   "cell_type": "code",
   "execution_count": 39,
   "id": "bbeae267",
   "metadata": {},
   "outputs": [
    {
     "data": {
      "text/plain": [
       "review_en      0\n",
       "review_es      0\n",
       "sentiment      0\n",
       "sentimiento    0\n",
       "dtype: int64"
      ]
     },
     "execution_count": 39,
     "metadata": {},
     "output_type": "execute_result"
    }
   ],
   "source": [
    "df.isnull().sum()"
   ]
  },
  {
   "cell_type": "markdown",
   "id": "c1cea89d",
   "metadata": {},
   "source": [
    "At first glance at the data, see punctuation error present in the second sample. \n",
    "- Missing space between first and second sentences.\n",
    "- Want to use regex to get the number of instances like the following.\n",
    "- A tokenizer can probably handle this easily. Still may be useful to know."
   ]
  },
  {
   "cell_type": "code",
   "execution_count": 41,
   "id": "d51c1954",
   "metadata": {},
   "outputs": [
    {
     "name": "stdout",
     "output_type": "stream",
     "text": [
      "ES:\n",
      "Una pequeña pequeña producción.La técnica de filmación es muy incuestionable, muy antigua, la moda de la BBC y le da una sensación de realismo reconfortante, y, a veces, incómodo, y, a veces, a la pieza.Los actores son extremadamente bien elegidos, Michael Sheen, no solo \"tiene todo el polari\", ¡pero tiene todas las voces por palmaditas!Realmente puede ver la edición perfecta guiada por las referencias a las entradas del diario de Williams, no solo vale la pena la observación, pero es una pieza imperrementemente escrita y realizada.Una producción magistral sobre uno de los grandes maestros de la comedia y su vida.El realismo realmente llega a casa con las pequeñas cosas: la fantasía del guardia que, en lugar de usar las técnicas de \"sueño\" tradicionales permanece sólido, entonces desaparece.Se desempeña nuestro conocimiento y nuestros sentidos, particularmente con las escenas relacionadas con Orton y Halliwell y los conjuntos (particularmente de su apartamento con murales de Halliwell que decoran cada superficie) están terriblemente bien hechos.\n",
      "\n",
      "EN:\n",
      "A wonderful little production. The filming technique is very unassuming- very old-time-BBC fashion and gives a comforting, and sometimes discomforting, sense of realism to the entire piece. The actors are extremely well chosen- Michael Sheen not only \"has got all the polari\" but he has all the voices down pat too! You can truly see the seamless editing guided by the references to Williams' diary entries, not only is it well worth the watching but it is a terrificly written and performed piece. A masterful production about one of the great master's of comedy and his life. The realism really comes home with the little things: the fantasy of the guard which, rather than use the traditional 'dream' techniques remains solid then disappears. It plays on our knowledge and our senses, particularly with the scenes concerning Orton and Halliwell and the sets (particularly of their flat with Halliwell's murals decorating every surface) are terribly well done.\n",
      "\n"
     ]
    }
   ],
   "source": [
    "es = df.iloc[1]['review_es']\n",
    "en = df.iloc[1]['review_en'] \n",
    "print(f\"ES:\\n{es}\\n\")\n",
    "print(f\"EN:\\n{en}\\n\")"
   ]
  },
  {
   "cell_type": "code",
   "execution_count": 42,
   "id": "d8a99116",
   "metadata": {},
   "outputs": [
    {
     "name": "stderr",
     "output_type": "stream",
     "text": [
      "/tmp/ipykernel_3542/2806316737.py:2: UserWarning: This pattern is interpreted as a regular expression, and has match groups. To actually get the groups, use str.extract.\n",
      "  mask = df['review_es'].str.contains(pattern)\n"
     ]
    },
    {
     "data": {
      "text/html": [
       "<div>\n",
       "<style scoped>\n",
       "    .dataframe tbody tr th:only-of-type {\n",
       "        vertical-align: middle;\n",
       "    }\n",
       "\n",
       "    .dataframe tbody tr th {\n",
       "        vertical-align: top;\n",
       "    }\n",
       "\n",
       "    .dataframe thead th {\n",
       "        text-align: right;\n",
       "    }\n",
       "</style>\n",
       "<table border=\"1\" class=\"dataframe\">\n",
       "  <thead>\n",
       "    <tr style=\"text-align: right;\">\n",
       "      <th></th>\n",
       "      <th>review_en</th>\n",
       "      <th>review_es</th>\n",
       "      <th>sentiment</th>\n",
       "      <th>sentimiento</th>\n",
       "    </tr>\n",
       "  </thead>\n",
       "  <tbody>\n",
       "    <tr>\n",
       "      <th>1</th>\n",
       "      <td>A wonderful little production. The filming tec...</td>\n",
       "      <td>Una pequeña pequeña producción.La técnica de f...</td>\n",
       "      <td>positive</td>\n",
       "      <td>positivo</td>\n",
       "    </tr>\n",
       "    <tr>\n",
       "      <th>2</th>\n",
       "      <td>I thought this was a wonderful way to spend ti...</td>\n",
       "      <td>Pensé que esta era una manera maravillosa de p...</td>\n",
       "      <td>positive</td>\n",
       "      <td>positivo</td>\n",
       "    </tr>\n",
       "    <tr>\n",
       "      <th>3</th>\n",
       "      <td>Basically there's a family where a little boy ...</td>\n",
       "      <td>Básicamente, hay una familia donde un niño peq...</td>\n",
       "      <td>negative</td>\n",
       "      <td>negativo</td>\n",
       "    </tr>\n",
       "    <tr>\n",
       "      <th>5</th>\n",
       "      <td>Probably my all-time favorite movie, a story o...</td>\n",
       "      <td>Probablemente mi película favorita de todos lo...</td>\n",
       "      <td>positive</td>\n",
       "      <td>positivo</td>\n",
       "    </tr>\n",
       "    <tr>\n",
       "      <th>6</th>\n",
       "      <td>I sure would like to see a resurrection of a u...</td>\n",
       "      <td>Seguro que me gustaría ver una resurrección de...</td>\n",
       "      <td>positive</td>\n",
       "      <td>positivo</td>\n",
       "    </tr>\n",
       "    <tr>\n",
       "      <th>...</th>\n",
       "      <td>...</td>\n",
       "      <td>...</td>\n",
       "      <td>...</td>\n",
       "      <td>...</td>\n",
       "    </tr>\n",
       "    <tr>\n",
       "      <th>49993</th>\n",
       "      <td>Robert Colomb has two full-time jobs. He's kno...</td>\n",
       "      <td>Robert Colomb tiene dos trabajos a tiempo comp...</td>\n",
       "      <td>negative</td>\n",
       "      <td>negativo</td>\n",
       "    </tr>\n",
       "    <tr>\n",
       "      <th>49994</th>\n",
       "      <td>This is your typical junk comedy.There are alm...</td>\n",
       "      <td>Esta es tu comedia de chatarra típica. Casi no...</td>\n",
       "      <td>negative</td>\n",
       "      <td>negativo</td>\n",
       "    </tr>\n",
       "    <tr>\n",
       "      <th>49995</th>\n",
       "      <td>I thought this movie did a down right good job...</td>\n",
       "      <td>Pensé que esta película hizo un buen trabajo a...</td>\n",
       "      <td>positive</td>\n",
       "      <td>positivo</td>\n",
       "    </tr>\n",
       "    <tr>\n",
       "      <th>49996</th>\n",
       "      <td>Bad plot, bad dialogue, bad acting, idiotic di...</td>\n",
       "      <td>Mala parcela, mal diálogo, mala actuación, dir...</td>\n",
       "      <td>negative</td>\n",
       "      <td>negativo</td>\n",
       "    </tr>\n",
       "    <tr>\n",
       "      <th>49999</th>\n",
       "      <td>No one expects the Star Trek movies to be high...</td>\n",
       "      <td>Nadie espera que las películas de Star Trek se...</td>\n",
       "      <td>negative</td>\n",
       "      <td>negativo</td>\n",
       "    </tr>\n",
       "  </tbody>\n",
       "</table>\n",
       "<p>33082 rows × 4 columns</p>\n",
       "</div>"
      ],
      "text/plain": [
       "                                               review_en  \\\n",
       "1      A wonderful little production. The filming tec...   \n",
       "2      I thought this was a wonderful way to spend ti...   \n",
       "3      Basically there's a family where a little boy ...   \n",
       "5      Probably my all-time favorite movie, a story o...   \n",
       "6      I sure would like to see a resurrection of a u...   \n",
       "...                                                  ...   \n",
       "49993  Robert Colomb has two full-time jobs. He's kno...   \n",
       "49994  This is your typical junk comedy.There are alm...   \n",
       "49995  I thought this movie did a down right good job...   \n",
       "49996  Bad plot, bad dialogue, bad acting, idiotic di...   \n",
       "49999  No one expects the Star Trek movies to be high...   \n",
       "\n",
       "                                               review_es sentiment sentimiento  \n",
       "1      Una pequeña pequeña producción.La técnica de f...  positive    positivo  \n",
       "2      Pensé que esta era una manera maravillosa de p...  positive    positivo  \n",
       "3      Básicamente, hay una familia donde un niño peq...  negative    negativo  \n",
       "5      Probablemente mi película favorita de todos lo...  positive    positivo  \n",
       "6      Seguro que me gustaría ver una resurrección de...  positive    positivo  \n",
       "...                                                  ...       ...         ...  \n",
       "49993  Robert Colomb tiene dos trabajos a tiempo comp...  negative    negativo  \n",
       "49994  Esta es tu comedia de chatarra típica. Casi no...  negative    negativo  \n",
       "49995  Pensé que esta película hizo un buen trabajo a...  positive    positivo  \n",
       "49996  Mala parcela, mal diálogo, mala actuación, dir...  negative    negativo  \n",
       "49999  Nadie espera que las películas de Star Trek se...  negative    negativo  \n",
       "\n",
       "[33082 rows x 4 columns]"
      ]
     },
     "execution_count": 42,
     "metadata": {},
     "output_type": "execute_result"
    }
   ],
   "source": [
    "pattern = r'([a-z]\\S[A-Z])'\n",
    "mask = df['review_es'].str.contains(pattern)\n",
    "\n",
    "filtered_df = df[mask]\n",
    "filtered_df"
   ]
  },
  {
   "cell_type": "code",
   "execution_count": 121,
   "id": "9154b2f6",
   "metadata": {},
   "outputs": [
    {
     "name": "stdout",
     "output_type": "stream",
     "text": [
      "A wonderful little production. The filming technique is very unassuming- very old-time-BBC fashion and gives a comforting, and sometimes discomforting, sense of realism to the entire piece. The actors are extremely well chosen- Michael Sheen not only \"has got all the polari\" but he has all the voices down pat too! You can truly see the seamless editing guided by the references to Williams' diary entries, not only is it well worth the watching but it is a terrificly written and performed piece. A masterful production about one of the great master's of comedy and his life. The realism really comes home with the little things: the fantasy of the guard which, rather than use the traditional 'dream' techniques remains solid then disappears. It plays on our knowledge and our senses, particularly with the scenes concerning Orton and Halliwell and the sets (particularly of their flat with Halliwell's murals decorating every surface) are terribly well done.\n"
     ]
    }
   ],
   "source": [
    "x = filtered_df.iloc[0]['review_en']\n",
    "print(x)"
   ]
  },
  {
   "cell_type": "code",
   "execution_count": 130,
   "id": "a8aac2bc",
   "metadata": {},
   "outputs": [],
   "source": [
    "def preprocess(doc):\n",
    "    # Instantiate the tools to tokenize and stem a given review\n",
    "    tokenizer = WordPunctTokenizer()\n",
    "    porter = PorterStemmer()\n",
    "    \n",
    "    tokens = tokenizer.tokenize(doc)\n",
    "    tokens = [word.lower() for word in tokens if word.isalpha()]\n",
    "    tokens = [word for word in tokens if word not in stopwords.words('english')]\n",
    "    #tokens = [porter.stem(token) for token in tokens]\n",
    "    \n",
    "    return tokens\n",
    "\n",
    "def analyze(doc):\n",
    "    sia = SentimentIntensityAnalyzer()\n",
    "    #doc = \" \".join(doc)\n",
    "    #sentiment = sia.polarity_scores(doc)\n",
    "    return sia.polarity_scores(doc)\n",
    "\n",
    "def sentence_tokenizer(doc):\n",
    "    sentences = sent_tokenize(doc)\n",
    "    lemmatizer = WordNetLemmatizer()\n",
    "    \n",
    "    sentences = [[word.lower() for word in sent.split() if word not in stopwords.words('english')] for sent in sentences]\n",
    "    \n",
    "    return [\" \".join(sent) for sent in sentences]\n"
   ]
  },
  {
   "cell_type": "code",
   "execution_count": 132,
   "id": "120eeeaf",
   "metadata": {},
   "outputs": [
    {
     "name": "stdout",
     "output_type": "stream",
     "text": [
      "['a wonderful little production.', 'the filming technique unassuming- old-time-bbc fashion gives comforting, sometimes discomforting, sense realism entire piece.', 'the actors extremely well chosen- michael sheen \"has got polari\" voices pat too!', \"you truly see seamless editing guided references williams' diary entries, well worth watching terrificly written performed piece.\", \"a masterful production one great master's comedy life.\", \"the realism really comes home little things: fantasy guard which, rather use traditional 'dream' techniques remains solid disappears.\", \"it plays knowledge senses, particularly scenes concerning orton halliwell sets (particularly flat halliwell's murals decorating every surface) terribly well done.\"]\n"
     ]
    }
   ],
   "source": [
    "y = sentence_tokenizer(x)\n",
    "print(y)"
   ]
  },
  {
   "cell_type": "code",
   "execution_count": 134,
   "id": "46f2135a",
   "metadata": {},
   "outputs": [
    {
     "name": "stdout",
     "output_type": "stream",
     "text": [
      "{'neg': 0.0, 'neu': 0.351, 'pos': 0.649, 'compound': 0.5719}\n",
      "{'neg': 0.15, 'neu': 0.694, 'pos': 0.156, 'compound': 0.0258}\n",
      "{'neg': 0.0, 'neu': 0.817, 'pos': 0.183, 'compound': 0.3989}\n",
      "{'neg': 0.0, 'neu': 0.67, 'pos': 0.33, 'compound': 0.7096}\n",
      "{'neg': 0.0, 'neu': 0.431, 'pos': 0.569, 'compound': 0.765}\n",
      "{'neg': 0.12, 'neu': 0.8, 'pos': 0.08, 'compound': -0.2023}\n",
      "{'neg': 0.146, 'neu': 0.688, 'pos': 0.166, 'compound': -0.128}\n"
     ]
    }
   ],
   "source": [
    "for sent in y:\n",
    "    print(analyze(sent))"
   ]
  }
 ],
 "metadata": {
  "kernelspec": {
   "display_name": "Python 3 (ipykernel)",
   "language": "python",
   "name": "python3"
  },
  "language_info": {
   "codemirror_mode": {
    "name": "ipython",
    "version": 3
   },
   "file_extension": ".py",
   "mimetype": "text/x-python",
   "name": "python",
   "nbconvert_exporter": "python",
   "pygments_lexer": "ipython3",
   "version": "3.10.9"
  }
 },
 "nbformat": 4,
 "nbformat_minor": 5
}
