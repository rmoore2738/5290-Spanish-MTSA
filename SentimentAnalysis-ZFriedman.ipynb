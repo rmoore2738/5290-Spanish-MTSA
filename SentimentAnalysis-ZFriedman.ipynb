{
 "cells": [
  {
   "cell_type": "markdown",
   "id": "9e6810d5",
   "metadata": {},
   "source": [
    "# Sentiment Analysis - Spanish Movie Reviews\n",
    "**By Zach Friedman**, zacheryfriedman@my.unt.edu"
   ]
  },
  {
   "cell_type": "code",
   "execution_count": 71,
   "id": "ad2a1099",
   "metadata": {},
   "outputs": [
    {
     "name": "stderr",
     "output_type": "stream",
     "text": [
      "[nltk_data] Downloading package punkt to /home/zach/nltk_data...\n",
      "[nltk_data]   Package punkt is already up-to-date!\n",
      "[nltk_data] Downloading package stopwords to /home/zach/nltk_data...\n",
      "[nltk_data]   Package stopwords is already up-to-date!\n",
      "[nltk_data] Downloading package sentiwordnet to\n",
      "[nltk_data]     /home/zach/nltk_data...\n",
      "[nltk_data]   Package sentiwordnet is already up-to-date!\n",
      "[nltk_data] Downloading package wordnet to /home/zach/nltk_data...\n",
      "[nltk_data]   Package wordnet is already up-to-date!\n",
      "[nltk_data] Downloading package omw-1.4 to /home/zach/nltk_data...\n",
      "[nltk_data]   Package omw-1.4 is already up-to-date!\n",
      "[nltk_data] Downloading package vader_lexicon to\n",
      "[nltk_data]     /home/zach/nltk_data...\n",
      "[nltk_data]   Package vader_lexicon is already up-to-date!\n"
     ]
    },
    {
     "data": {
      "text/plain": [
       "True"
      ]
     },
     "execution_count": 71,
     "metadata": {},
     "output_type": "execute_result"
    }
   ],
   "source": [
    "import pandas as pd\n",
    "import nltk\n",
    "import numpy as np\n",
    "\n",
    "# NLTK VADER imports\n",
    "from nltk.tokenize import WordPunctTokenizer, sent_tokenize\n",
    "from nltk.corpus import sentiwordnet as swn\n",
    "from nltk.corpus import stopwords\n",
    "from nltk.stem import WordNetLemmatizer\n",
    "from nltk.sentiment.vader import SentimentIntensityAnalyzer\n",
    "from collections import Counter\n",
    "# MultinomialNB imports\n",
    "from sklearn.model_selection import train_test_split\n",
    "from sklearn.feature_extraction.text import TfidfVectorizer, CountVectorizer\n",
    "from sklearn.naive_bayes import MultinomialNB\n",
    "from sklearn.metrics import accuracy_score, confusion_matrix, ConfusionMatrixDisplay\n",
    "\n",
    "nltk.download('punkt')\n",
    "nltk.download('stopwords')\n",
    "nltk.download('sentiwordnet')\n",
    "nltk.download('wordnet')\n",
    "nltk.download('omw-1.4')\n",
    "nltk.download('vader_lexicon')"
   ]
  },
  {
   "cell_type": "markdown",
   "id": "728dc25f",
   "metadata": {},
   "source": [
    "## Preliminary Model: VADER Sentiment Analysis Tool\n",
    "> https://github.com/cjhutto/vaderSentiment"
   ]
  },
  {
   "cell_type": "code",
   "execution_count": 4,
   "id": "c170566b",
   "metadata": {},
   "outputs": [],
   "source": [
    "df = pd.read_csv('./IMDB_Dataset_SPANISH.csv')"
   ]
  },
  {
   "cell_type": "code",
   "execution_count": 5,
   "id": "e372eb1a",
   "metadata": {},
   "outputs": [],
   "source": [
    "def analyze(doc):\n",
    "    sia = SentimentIntensityAnalyzer()\n",
    "    #doc = \" \".join(doc)\n",
    "    #sentiment = sia.polarity_scores(doc)\n",
    "    return sia.polarity_scores(doc)\n",
    "\n",
    "def sentence_tokenizer(doc):\n",
    "    sentences = sent_tokenize(doc)\n",
    "    #lemmatizer = WordNetLemmatizer()\n",
    "    \n",
    "    sentences = [[word.lower() for word in sent.split() if word not in stopwords.words('english')] for sent in sentences]\n",
    "    \n",
    "    return [\" \".join(sent) for sent in sentences]"
   ]
  },
  {
   "cell_type": "code",
   "execution_count": 6,
   "id": "a6377ce6",
   "metadata": {},
   "outputs": [],
   "source": [
    "df['review_en'] = df['review_en'].apply(sentence_tokenizer) # Apply sentence tokenization to each English review in the dataframe"
   ]
  },
  {
   "cell_type": "code",
   "execution_count": 7,
   "id": "32e2df36",
   "metadata": {},
   "outputs": [
    {
     "data": {
      "text/html": [
       "<div>\n",
       "<style scoped>\n",
       "    .dataframe tbody tr th:only-of-type {\n",
       "        vertical-align: middle;\n",
       "    }\n",
       "\n",
       "    .dataframe tbody tr th {\n",
       "        vertical-align: top;\n",
       "    }\n",
       "\n",
       "    .dataframe thead th {\n",
       "        text-align: right;\n",
       "    }\n",
       "</style>\n",
       "<table border=\"1\" class=\"dataframe\">\n",
       "  <thead>\n",
       "    <tr style=\"text-align: right;\">\n",
       "      <th></th>\n",
       "      <th>prediction</th>\n",
       "    </tr>\n",
       "  </thead>\n",
       "  <tbody>\n",
       "    <tr>\n",
       "      <th>0</th>\n",
       "      <td>negative</td>\n",
       "    </tr>\n",
       "    <tr>\n",
       "      <th>1</th>\n",
       "      <td>positive</td>\n",
       "    </tr>\n",
       "    <tr>\n",
       "      <th>2</th>\n",
       "      <td>positive</td>\n",
       "    </tr>\n",
       "    <tr>\n",
       "      <th>3</th>\n",
       "      <td>negative</td>\n",
       "    </tr>\n",
       "    <tr>\n",
       "      <th>4</th>\n",
       "      <td>positive</td>\n",
       "    </tr>\n",
       "    <tr>\n",
       "      <th>...</th>\n",
       "      <td>...</td>\n",
       "    </tr>\n",
       "    <tr>\n",
       "      <th>49995</th>\n",
       "      <td>positive</td>\n",
       "    </tr>\n",
       "    <tr>\n",
       "      <th>49996</th>\n",
       "      <td>positive</td>\n",
       "    </tr>\n",
       "    <tr>\n",
       "      <th>49997</th>\n",
       "      <td>negative</td>\n",
       "    </tr>\n",
       "    <tr>\n",
       "      <th>49998</th>\n",
       "      <td>negative</td>\n",
       "    </tr>\n",
       "    <tr>\n",
       "      <th>49999</th>\n",
       "      <td>positive</td>\n",
       "    </tr>\n",
       "  </tbody>\n",
       "</table>\n",
       "<p>50000 rows × 1 columns</p>\n",
       "</div>"
      ],
      "text/plain": [
       "      prediction\n",
       "0       negative\n",
       "1       positive\n",
       "2       positive\n",
       "3       negative\n",
       "4       positive\n",
       "...          ...\n",
       "49995   positive\n",
       "49996   positive\n",
       "49997   negative\n",
       "49998   negative\n",
       "49999   positive\n",
       "\n",
       "[50000 rows x 1 columns]"
      ]
     },
     "execution_count": 7,
     "metadata": {},
     "output_type": "execute_result"
    }
   ],
   "source": [
    "labels = [] # A list to hold the predicted labels for each review\n",
    "\n",
    "for i in range(len(df)): # For each review in the dataframe...\n",
    "    review_sentiment = [] # A list to hold the sentiments of each sentence in a review\n",
    "\n",
    "    for sent in df['review_en'].iloc()[i]: # For each sentence in a review...\n",
    "\n",
    "        analysis = analyze(sent) # Apply the sentiment intensity analyzer to each sentence\n",
    "\n",
    "        subset = ['neg', 'pos'] # We only care about the negative and positive scores, since the dataset does not include neutral labels\n",
    "        subset_dict = {key: value for key, value in analysis.items() if key in subset} # Create a subset dictionary with 'neg' and 'pos' key-value pairs\n",
    "\n",
    "        sentiment = max(subset_dict, key=subset_dict.get) # Get the maximum of the 'neg' and 'pos' scores\n",
    "\n",
    "        review_sentiment.append(sentiment) # Append the sentiment for the current sentence to the list of sentiments\n",
    "\n",
    "    sentiment_counts = Counter(review_sentiment) # Count the number of 'neg' and 'pos' in the list of sentiments\n",
    "\n",
    "    # Find the most common sentiment in the list of sentiments for a review and append the appropriate label to the list of prediction labels\n",
    "    if sentiment_counts.most_common(1)[0][0] == 'neg':\n",
    "        labels.append('negative')\n",
    "    else:\n",
    "        labels.append('positive')\n",
    "\n",
    "predictions = pd.DataFrame(data=labels, columns=[\"prediction\"])\n",
    "\n",
    "predictions"
   ]
  },
  {
   "cell_type": "code",
   "execution_count": 69,
   "id": "a66be8dd",
   "metadata": {},
   "outputs": [
    {
     "name": "stdout",
     "output_type": "stream",
     "text": [
      "VADER accuracy: 0.6872\n"
     ]
    }
   ],
   "source": [
    "merged = pd.merge(df['sentiment'], predictions['prediction'], left_index=True, right_index=True)\n",
    "\n",
    "boolean_mask = merged.iloc[:,0] == merged.iloc[:,1]\n",
    "\n",
    "accuracy_score = boolean_mask.mean()\n",
    "\n",
    "print(f\"VADER accuracy: {accuracy_score}\")"
   ]
  },
  {
   "cell_type": "markdown",
   "id": "80621b3b",
   "metadata": {},
   "source": [
    "## Multinomial Naive Bayes"
   ]
  },
  {
   "cell_type": "code",
   "execution_count": 21,
   "id": "a4bf0dc4",
   "metadata": {},
   "outputs": [
    {
     "name": "stderr",
     "output_type": "stream",
     "text": [
      "/tmp/ipykernel_8856/1833387259.py:3: FutureWarning: In a future version of pandas all arguments of DataFrame.drop except for the argument 'labels' will be keyword-only.\n",
      "  fresh_df = fresh_df.drop(['Unnamed: 0'], 1)\n",
      "/tmp/ipykernel_8856/1833387259.py:4: FutureWarning: In a future version of pandas all arguments of DataFrame.drop except for the argument 'labels' will be keyword-only.\n",
      "  fresh_df = fresh_df.drop(['review_es'], 1)\n",
      "/tmp/ipykernel_8856/1833387259.py:5: FutureWarning: In a future version of pandas all arguments of DataFrame.drop except for the argument 'labels' will be keyword-only.\n",
      "  fresh_df = fresh_df.drop(['sentimiento'], 1)\n"
     ]
    }
   ],
   "source": [
    "fresh_df = pd.read_csv('./IMDB_Dataset_SPANISH.csv')\n",
    "\n",
    "fresh_df = fresh_df.drop(['Unnamed: 0'], 1)\n",
    "fresh_df = fresh_df.drop(['review_es'], 1)\n",
    "fresh_df = fresh_df.drop(['sentimiento'], 1)"
   ]
  },
  {
   "cell_type": "code",
   "execution_count": 22,
   "id": "31cb731b",
   "metadata": {},
   "outputs": [],
   "source": [
    "fresh_df.to_csv(\"sanitized.csv\")"
   ]
  },
  {
   "cell_type": "code",
   "execution_count": 64,
   "id": "3ad81058",
   "metadata": {},
   "outputs": [],
   "source": [
    "X = fresh_df.iloc[:, :-1]\n",
    "y = fresh_df.iloc[:, -1]\n",
    "\n",
    "X_train, X_test, y_train, y_test = train_test_split(X, y, test_size=0.2, random_state=42)\n",
    "\n",
    "X_train = X_train['review_en'].tolist()\n",
    "X_test = X_test['review_en'].tolist()\n",
    "\n",
    "vectorizer = CountVectorizer()\n",
    "\n",
    "X_train = vectorizer.fit_transform(X_train)\n",
    "X_test = vectorizer.transform(X_test)"
   ]
  },
  {
   "cell_type": "code",
   "execution_count": 65,
   "id": "732ba86f",
   "metadata": {},
   "outputs": [
    {
     "name": "stdout",
     "output_type": "stream",
     "text": [
      "(10000, 94885)\n"
     ]
    }
   ],
   "source": [
    "print(X_test.shape)"
   ]
  },
  {
   "cell_type": "code",
   "execution_count": 66,
   "id": "4bd6f167",
   "metadata": {},
   "outputs": [],
   "source": [
    "nb = MultinomialNB()\n",
    "\n",
    "nb.fit(X_train, y_train)\n",
    "\n",
    "yhat = nb.predict(X_test)\n",
    "\n",
    "acc = accuracy_score(y_test, yhat)"
   ]
  },
  {
   "cell_type": "code",
   "execution_count": 70,
   "id": "7c8964eb",
   "metadata": {},
   "outputs": [
    {
     "name": "stdout",
     "output_type": "stream",
     "text": [
      "MultinomialNB accuracy: 0.8492\n"
     ]
    }
   ],
   "source": [
    "print(f\"MultinomialNB accuracy: {acc}\")"
   ]
  },
  {
   "cell_type": "code",
   "execution_count": 74,
   "id": "2bfc294e",
   "metadata": {},
   "outputs": [
    {
     "data": {
      "text/plain": [
       "<sklearn.metrics._plot.confusion_matrix.ConfusionMatrixDisplay at 0x7f1cef0ec610>"
      ]
     },
     "execution_count": 74,
     "metadata": {},
     "output_type": "execute_result"
    },
    {
     "data": {
      "image/png": "[encoded data removed]",
      "text/plain": [
       "<Figure size 640x480 with 2 Axes>"
      ]
     },
     "metadata": {},
     "output_type": "display_data"
    }
   ],
   "source": [
    "cm = confusion_matrix(y_test, yhat)\n",
    "\n",
    "cm_display = ConfusionMatrixDisplay(confusion_matrix=cm, display_labels=['positive', 'negative']) # Create a prettier version of the confusion matrix. \n",
    "\n",
    "cm_display.plot()"
   ]
  }
 ],
 "metadata": {
  "kernelspec": {
   "display_name": "Python 3 (ipykernel)",
   "language": "python",
   "name": "python3"
  },
  "language_info": {
   "codemirror_mode": {
    "name": "ipython",
    "version": 3
   },
   "file_extension": ".py",
   "mimetype": "text/x-python",
   "name": "python",
   "nbconvert_exporter": "python",
   "pygments_lexer": "ipython3",
   "version": "3.10.9"
  }
 },
 "nbformat": 4,
 "nbformat_minor": 5
}
